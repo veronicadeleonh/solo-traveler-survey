{
 "cells": [
  {
   "cell_type": "code",
   "execution_count": 1,
   "metadata": {},
   "outputs": [],
   "source": [
    "from faker import Faker\n",
    "import random\n",
    "import json"
   ]
  },
  {
   "cell_type": "code",
   "execution_count": 2,
   "metadata": {},
   "outputs": [],
   "source": [
    "fake = Faker()\n",
    "\n",
    "# Define different categories for diversity\n",
    "themes = [\"adventure\", \"relaxation\", \"culture\", \"food\", \"nature\", \"beach\", \"mountains\", \"urban exploration\", \"family-friendly\", \"romantic\"]\n",
    "destinations = [\"Japan\", \"Italy\", \"Peru\", \"Thailand\", \"Canada\", \"Australia\", \"Switzerland\", \"Spain\", \"New Zealand\", \"South Africa\"]\n",
    "activities = [\"exploring ancient ruins\", \"scuba diving\", \"hiking in the mountains\", \"experiencing local cuisine\", \"visiting art museums\", \"relaxing by the beach\", \"road tripping across the country\", \"attending a music festival\", \"cultural exchange\", \"visiting national parks\"]\n",
    "personal_preferences = [\"with a local guide\", \"with friends\", \"solo\", \"with family\", \"on a budget\", \"luxury stay\", \"eco-friendly accommodations\", \"during the summer\", \"off the beaten path\"]\n",
    "\n",
    "positive_phrases = [\n",
    "    \"I've always dreamed of\", \"I can't wait to\", \"I'm so excited about\",\n",
    "    \"It would be amazing to\", \"My dream is to\", \"I'm looking forward to\"\n",
    "]\n",
    "\n",
    "neutral_phrases = [\n",
    "    \"I want to\", \"I plan to\", \"I'm considering\", \"I'm thinking about\",\n",
    "    \"I'd like to\", \"I'm hoping to\"\n",
    "]\n",
    "\n",
    "negative_phrases = [\n",
    "    \"I wish I could\", \"I doubt I'll ever get to\", \"I'm not sure I'll manage to\",\n",
    "    \"Unfortunately, I can't afford to\", \"I feel like I'll never be able to\",\n",
    "    \"I regret not being able to\"\n",
    "]"
   ]
  },
  {
   "cell_type": "code",
   "execution_count": 3,
   "metadata": {},
   "outputs": [],
   "source": [
    "def generate_travel_wish():\n",
    "    theme = random.choice(themes)\n",
    "    destination = random.choice(destinations)\n",
    "    activity = random.choice(activities)\n",
    "    preference = random.choice(personal_preferences)\n",
    "\n",
    "    # Randomly choose a sentiment type\n",
    "    sentiment_type = random.choices(\n",
    "        [\"positive\", \"neutral\", \"negative\"], weights=[0.4, 0.4, 0.2]\n",
    "    )[0]\n",
    "\n",
    "    if sentiment_type == \"positive\":\n",
    "        phrase = random.choice(positive_phrases)\n",
    "    elif sentiment_type == \"neutral\":\n",
    "        phrase = random.choice(neutral_phrases)\n",
    "    else:\n",
    "        phrase = random.choice(negative_phrases)\n",
    "\n",
    "    return f\"{phrase} go {activity} in {destination} for a {theme} experience, {preference}.\""
   ]
  },
  {
   "cell_type": "code",
   "execution_count": 5,
   "metadata": {},
   "outputs": [
    {
     "name": "stdout",
     "output_type": "stream",
     "text": [
      "I'd like to go cultural exchange in Switzerland for a food experience, on a budget.\n",
      "I want to go attending a music festival in Spain for a adventure experience, with a local guide.\n",
      "Unfortunately, I can't afford to go hiking in the mountains in Peru for a relaxation experience, eco-friendly accommodations.\n",
      "I'm thinking about go visiting art museums in Japan for a food experience, during the summer.\n",
      "I'd like to go scuba diving in South Africa for a family-friendly experience, during the summer.\n",
      "I can't wait to go visiting national parks in New Zealand for a family-friendly experience, with family.\n",
      "I regret not being able to go hiking in the mountains in Italy for a relaxation experience, during the summer.\n",
      "I feel like I'll never be able to go hiking in the mountains in South Africa for a urban exploration experience, luxury stay.\n",
      "I'm looking forward to go attending a music festival in Spain for a relaxation experience, off the beaten path.\n",
      "I'm thinking about go relaxing by the beach in Japan for a food experience, off the beaten path.\n",
      "I'm not sure I'll manage to go relaxing by the beach in Spain for a nature experience, eco-friendly accommodations.\n",
      "I plan to go relaxing by the beach in Italy for a relaxation experience, during the summer.\n",
      "I'm considering go road tripping across the country in Switzerland for a family-friendly experience, solo.\n",
      "I plan to go experiencing local cuisine in Australia for a nature experience, luxury stay.\n",
      "I'm thinking about go relaxing by the beach in Canada for a relaxation experience, eco-friendly accommodations.\n",
      "I'm hoping to go relaxing by the beach in South Africa for a adventure experience, off the beaten path.\n",
      "I'm considering go relaxing by the beach in Australia for a food experience, with a local guide.\n",
      "I'm hoping to go scuba diving in Spain for a mountains experience, eco-friendly accommodations.\n",
      "My dream is to go hiking in the mountains in Spain for a beach experience, with friends.\n",
      "I'm not sure I'll manage to go relaxing by the beach in Italy for a mountains experience, during the summer.\n"
     ]
    }
   ],
   "source": [
    "travel_wishes = [generate_travel_wish() for _ in range(1000)]\n",
    "\n",
    "for wish in travel_wishes[:20]:\n",
    "    print(wish)"
   ]
  },
  {
   "cell_type": "code",
   "execution_count": 7,
   "metadata": {},
   "outputs": [],
   "source": [
    "\n",
    "with open('json/travel_wishes.json', \"w\") as f:\n",
    "    json.dump(travel_wishes, f, indent=4)\n"
   ]
  },
  {
   "cell_type": "code",
   "execution_count": null,
   "metadata": {},
   "outputs": [],
   "source": []
  }
 ],
 "metadata": {
  "kernelspec": {
   "display_name": "da-final-project",
   "language": "python",
   "name": "python3"
  },
  "language_info": {
   "codemirror_mode": {
    "name": "ipython",
    "version": 3
   },
   "file_extension": ".py",
   "mimetype": "text/x-python",
   "name": "python",
   "nbconvert_exporter": "python",
   "pygments_lexer": "ipython3",
   "version": "3.12.8"
  }
 },
 "nbformat": 4,
 "nbformat_minor": 2
}
